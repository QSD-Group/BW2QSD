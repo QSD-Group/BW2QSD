{
 "cells": [
  {
   "cell_type": "markdown",
   "id": "ruled-oliver",
   "metadata": {},
   "source": [
    "# Tutorial of ``BW2QSD``\n",
    "\n",
    "* **Prepared by:**\n",
    "\n",
    "    - Yalin Li\n",
    "\n",
    "* **Covered topics:**\n",
    "\n",
    "    - Introduction and Installation\n",
    "    - Download External Databases\n",
    "    - Get Characterization Factors\n",
    "\n",
    "* **Update date:** 2021-04-09\n",
    "* ``bw2qsd`` **version:** 0.0.8"
   ]
  },
  {
   "cell_type": "markdown",
   "id": "worse-turtle",
   "metadata": {},
   "source": [
    "## Introduction and Installation"
   ]
  },
  {
   "cell_type": "markdown",
   "id": "veterinary-header",
   "metadata": {},
   "source": [
    "### Introduction\n",
    "\n",
    "``BW2QSD`` is (currently) a lite package to leverage the [``Brightway2`` platform](https://2.docs.brightway.dev/index.html) for convenient importing of life cycle impact characterization factors (CFs) and use them in packages developed for quantitative sustainable design (QSD) of technologies and systems hosted on [the GitHub homepage of QSD-Group](https://github.com/QSD-Group). You can certainly use this package to just extract the CF values and use in other ways you like.\n",
    "\n",
    "Note that ``Brightway2`` is a powerful platform with many capacities, ``BW2QSD`` is not intended to leverage all of them, as the same suggests, ``BW2QSD`` is tailored for the QSD. There are still some manual work required to clean up the data and format them into the requirement of QSD pcakges, but the entire process can be automated with future development of both ``BW2QSD`` and QSD packages.\n",
    "\n",
    "Additionally, you will find this tutorial much easier to follow if you have familiarized yourself with the basic concepts in ``Brightway2``."
   ]
  },
  {
   "cell_type": "markdown",
   "id": "lyric-evening",
   "metadata": {},
   "source": [
    "### Install ``Brightway2`` and ``eidl``\n",
    "\n",
    "\n",
    "**TL;DR** and *assuming you have conda (e.g., through miniconda or anaconda)*:\n",
    "\n",
    "```bash\n",
    "conda install -c defaults -c conda-forge -c cmutel -c haasad eidl\n",
    "```\n",
    "\n",
    "This installs the [``eidl`` (EcoInventDownLoader)](https://github.com/haasad/EcoInventDownLoader) package, which ``BW2QSD`` uses for downloading ecoinvent databases. As ``eidl`` requires ``Brightway2``, you will get ``Brightway2`` as well.\n",
    "\n",
    "You can look at the official documentation for installation of [``Brightway2``](https://2.docs.brightway.dev/installation.html) and [``eidl``](https://github.com/haasad/EcoInventDownLoader#installation), but we do not recommending following their instructions unless you are familiar with conda and know what you are doing."
   ]
  },
  {
   "cell_type": "markdown",
   "id": "political-tract",
   "metadata": {},
   "source": [
    "**Note:** If you do not have ``conda``, you can following steps in ``conda``'s [tutorial](https://conda.io/projects/conda/en/latest/user-guide/install/index.html). As an FYI, ``BW2QSD`` (and other QSD packages) are developed and tested using the [Spyder IDE](https://www.spyder-ide.org) (installed through [Anaconda](https://www.anaconda.com))."
   ]
  },
  {
   "cell_type": "markdown",
   "id": "superior-desktop",
   "metadata": {},
   "source": [
    "**PS:** In case you are wondering what ``cmutel`` and ``haasad`` are for, [Chris Mutel](https://chris.mutel.org/) and Andrian Haas are the lead developers for ``Brightway2`` and ``eidl``."
   ]
  },
  {
   "cell_type": "markdown",
   "id": "tight-supplement",
   "metadata": {},
   "source": [
    "### Other important notes\n",
    "\n",
    "1. ``Brightway2`` has PyPI release, but seems like it's not being actively updated now, so do the conda releases. But you can get the most up-to-date packages from its [GitHub homepage](https://github.com/brightway-lca)."
   ]
  },
  {
   "cell_type": "markdown",
   "id": "careful-envelope",
   "metadata": {},
   "source": [
    "2. Though you can install ``Brightway2`` through ``pip install brightway2``, it won't install ``eidl`` (neither will ``pip install eidl`` do the work, because it's not released on PyPI).\n",
    "    \n",
    "    Additionally, if you do ``pip install brightway2`` and then later uses ``conda install -c defaults -c conda-forge -c cmutel -c haasad eidl`` to install eidl through conda, conda will complain about having installed ``brightway2`` and its dependencies. Then you will need to ``pip uninstall`` the many packages that comes with ``Brightway2`` and manually remove caches.\n",
    "    \n",
    "    You can of course clone the ``eidl`` repository on GitHub, but it's still a hassel."
   ]
  },
  {
   "cell_type": "markdown",
   "id": "enclosed-customer",
   "metadata": {},
   "source": [
    "3. When running ``BW2QSD``, you might run into a bug related to database importing as:\n",
    "\n",
    "```bash\n",
    "ImportError: cannot import name 'databases'\n",
    "```"
   ]
  },
  {
   "cell_type": "markdown",
   "id": "economic-prompt",
   "metadata": {},
   "source": [
    "- Based on [this post](https://stackoverflow.com/questions/60542566/cannot-anymore-import-brightway2-importerror), you need to fix the ``bw2data`` (one of the core packages of the ``Brightway2`` platform) as [here](https://github.com/brightway-lca/brightway2-data/commit/9c52e76c84bfa7d3d9719da152c0616d4039a3c3) to get more helpful error message.\n",
    "    - Note that if in the future, you want to update ``Brightway2`` through conda (if updates are released on conda in the future), you might need to revert the changes as conda will check the size of the files to make sure they are not corrupt, and changing those files will fail the safety check.\n",
    "    - ``BW2QSD`` will prompt you on this error and how to fix it if you run into errors related to this. But the error-handling functions in ``BW2QSD`` has only been tested in Spyder."
   ]
  },
  {
   "cell_type": "markdown",
   "id": "fuzzy-gasoline",
   "metadata": {},
   "source": [
    "To prevent from getting this error, you can run the following code before you quitting the program (i.e., AFTER you have finished getting CFs), like suggested at the end of this tutorial.\n",
    "\n",
    "```bash\n",
    "from bw2qsd import remove_setups_pickle\n",
    "remove_setups_pickle()\n",
    "```"
   ]
  },
  {
   "cell_type": "markdown",
   "id": "prime-burton",
   "metadata": {},
   "source": [
    "4. If there are functions in ``Brightway2`` packages that you would like to use but not included in ``BW2QSD`` (e.g., renaming databases), you can import the corresponding packages and for those tasks."
   ]
  },
  {
   "cell_type": "markdown",
   "id": "further-midwest",
   "metadata": {},
   "source": [
    "## Download External Databases\n",
    "\n",
    "\n",
    "**Note**:\n",
    "Currently only the [ecoinvent](http://ecoinvent.org) (license and login credentials required) and [forwast](https://lca-net.com/projects/show/forwast/) databases have been developed and tested.\n",
    "\n",
    "In the future, databases in the [Federal LCA Commons repository](https://www.lcacommons.gov/lca-collaboration/) will be included."
   ]
  },
  {
   "cell_type": "markdown",
   "id": "smooth-throw",
   "metadata": {},
   "source": [
    "### Download ecoinvent"
   ]
  },
  {
   "cell_type": "code",
   "execution_count": 4,
   "id": "alike-weapon",
   "metadata": {},
   "outputs": [],
   "source": [
    "# To change directory to the cloned bw2qsd (as opposed to the pip installed version)\n",
    "# import os\n",
    "# path = os.path.realpath('')+'/../'\n",
    "# os.chdir(path)"
   ]
  },
  {
   "cell_type": "code",
   "execution_count": 14,
   "id": "aggregate-satellite",
   "metadata": {},
   "outputs": [],
   "source": [
    "from bw2qsd import DataDownloader"
   ]
  },
  {
   "cell_type": "code",
   "execution_count": 10,
   "id": "normal-accounting",
   "metadata": {},
   "outputs": [
    {
     "name": "stdout",
     "output_type": "stream",
     "text": [
      "Help on class DataDownloader in module bw2qsd._db_downloader:\n",
      "\n",
      "class DataDownloader(builtins.object)\n",
      " |  DataDownloader(path='')\n",
      " |  \n",
      " |  To download databases from external sources.\n",
      " |  \n",
      " |  Currently support:\n",
      " |      `ecoinvent <https://www.ecoinvent.org/>`_, version 3+, (license and login credentials required)\n",
      " |      `forwarst <https://lca-net.com/projects/show/forwast/>`_ (NOT YET READY)\n",
      " |      `USLCI <>`_ (NOT YET READY)\n",
      " |  \n",
      " |  Parameters\n",
      " |  ----------\n",
      " |  path : str\n",
      " |      Path for database storage, a new directory \"database\" will be created under the given path,\n",
      " |      default to current working directory.\n",
      " |  \n",
      " |  Methods defined here:\n",
      " |  \n",
      " |  __init__(self, path='')\n",
      " |      Initialize self.  See help(type(self)) for accurate signature.\n",
      " |  \n",
      " |  download_USLCI(self)\n",
      " |      NOT  YET READY\n",
      " |  \n",
      " |  download_ecoinvent(self, path='', store_download=True)\n",
      " |      Download ecoinvent database using the ``eidl`` package.\n",
      " |      You will be prompted to enter ecoinvent license and login credentials.\n",
      " |      \n",
      " |      The original package ``eidl`` has compatibility issues with some operating systems,\n",
      " |      e.g., :func:`eidl.get_ecoinvent` may not work, this function fixes the bugs.\n",
      " |      \n",
      " |      Parameters\n",
      " |      ----------\n",
      " |      path : str\n",
      " |          Path for for storing the ecoinvent database (if store_download is True).\n",
      " |          Will use the user data storage directory (based on :func:`appdirs.user_data_dir`)\n",
      " |          if not provided.\n",
      " |      store_download : bool\n",
      " |          Whether to store the downloaded file.\n",
      " |      \n",
      " |      Tip\n",
      " |      ---\n",
      " |      The following system models are supported by ecoinvent [1]_:\n",
      " |          \n",
      " |          [1] cutoff: Allocation, cut-off by classification. \n",
      " |          For users new to LCI databases, ecoinvent recommends using the \n",
      " |          cut-off system model when starting to work with ecoinvent version 3.\n",
      " |          \n",
      " |          [2] apos: Allocation at the point of substitution.\n",
      " |          \n",
      " |          [3] consequential: Substitution, consequential,\n",
      " |      \n",
      " |      \n",
      " |      .. note::\n",
      " |          When selecting system models, you may run into both \"cut-off\" and \"cutoff\"\n",
      " |          models, choose \"cutoff\", \"cut-off\" is a bug in ecoinvent.\n",
      " |      \n",
      " |      \n",
      " |      References\n",
      " |      ----------\n",
      " |      .. [1] `System Models in ecoinvent 3 <https://www.ecoinvent.org/database/system-models-in-ecoinvent-3/system-models-in-ecoinvent-3.html>`_\n",
      " |  \n",
      " |  download_forwast(self)\n",
      " |      NOT  YET READY\n",
      " |  \n",
      " |  ----------------------------------------------------------------------\n",
      " |  Static methods defined here:\n",
      " |  \n",
      " |  inspect(sp, db_name)\n",
      " |      Check for unlinked exchanges in a given database. \n",
      " |      If found, it will be the user's decision to if or not continue writing to \n",
      " |      SQLite3 backend.\n",
      " |      \n",
      " |      Parameters\n",
      " |      ----------\n",
      " |      sp : obj\n",
      " |          The initialized database to be inspected.\n",
      " |      db_name : obj\n",
      " |          Name of the database being inspected.\n",
      " |      \n",
      " |      Returns\n",
      " |      -------\n",
      " |      datasets: int \n",
      " |          The total number of lci datasets extracted.        \n",
      " |      exchanges : int\n",
      " |          The total number of exchanges.\n",
      " |      unlinked: int\n",
      " |           The total number of unlinked exchanges.\n",
      " |  \n",
      " |  ----------------------------------------------------------------------\n",
      " |  Data descriptors defined here:\n",
      " |  \n",
      " |  __dict__\n",
      " |      dictionary for instance variables (if defined)\n",
      " |  \n",
      " |  __weakref__\n",
      " |      list of weak references to the object (if defined)\n",
      "\n"
     ]
    }
   ],
   "source": [
    "# Only the most basic steps are shown in this tutorial,\n",
    "# if you want look at the full document, you can use\n",
    "help(DataDownloader)"
   ]
  },
  {
   "cell_type": "code",
   "execution_count": 12,
   "id": "strong-shelf",
   "metadata": {},
   "outputs": [],
   "source": [
    "# or (run this line)\n",
    "DataDownloader?"
   ]
  },
  {
   "cell_type": "code",
   "execution_count": 13,
   "id": "willing-grounds",
   "metadata": {},
   "outputs": [],
   "source": [
    "# Firstly initiate the class\n",
    "downloader = DataDownloader()"
   ]
  },
  {
   "cell_type": "code",
   "execution_count": null,
   "id": "valued-processing",
   "metadata": {},
   "outputs": [],
   "source": [
    "# You will be prompted for your ecoinvent credentials in this process,\n",
    "# you will also be able to select the version of the ecoinvent database\n",
    "# and the system model (refer to the document of this function for explanation on system models)\n",
    "\n",
    "# Downloading the database and extracting the data can take tens of minutes,\n",
    "# you will get print-out messages along the way\n",
    "# When the process is finished, you will get a message with the name of the database,\n",
    "# it will be in the format of \"ecoinvent_XY\" with X being system model and Y being the version,\n",
    "# e.g., \"ecoinvent_cutoff371\" means the cut-off system model and version 3.7.1\n",
    "downloader.download_ecoinvent()"
   ]
  },
  {
   "cell_type": "code",
   "execution_count": null,
   "id": "unlimited-trance",
   "metadata": {},
   "outputs": [],
   "source": [
    "# You can check what databases you have by\n",
    "downloader.available_databases"
   ]
  },
  {
   "cell_type": "markdown",
   "id": "patent-wireless",
   "metadata": {},
   "source": [
    "## Get Characterization Factors"
   ]
  },
  {
   "cell_type": "markdown",
   "id": "improving-ticket",
   "metadata": {},
   "source": [
    "### Load database"
   ]
  },
  {
   "cell_type": "code",
   "execution_count": 27,
   "id": "nonprofit-grocery",
   "metadata": {},
   "outputs": [],
   "source": [
    "from bw2qsd import CFgetter"
   ]
  },
  {
   "cell_type": "code",
   "execution_count": 33,
   "id": "economic-privilege",
   "metadata": {},
   "outputs": [
    {
     "name": "stdout",
     "output_type": "stream",
     "text": [
      "Database Brightway2 SQLiteBackend: ecoinvent_cutoff371 with 19128 inventories has been loaded.\n"
     ]
    }
   ],
   "source": [
    "# Let's assume we have the \"ecoinvent_cutoff371\" database\n",
    "ei = CFgetter('ei')\n",
    "ei.load_database('ecoinvent_cutoff371')"
   ]
  },
  {
   "cell_type": "markdown",
   "id": "sweet-purple",
   "metadata": {},
   "source": [
    "### Load impact indicator"
   ]
  },
  {
   "cell_type": "code",
   "execution_count": null,
   "id": "adverse-imaging",
   "metadata": {},
   "outputs": [],
   "source": [
    "# To have a look at all available impact assessment methods and associated indicators (800+),\n",
    "# you can use (`add` is whether to add the returned indicators to calculation)\n",
    "ei.load_indicators(add=False)"
   ]
  },
  {
   "cell_type": "code",
   "execution_count": 44,
   "id": "amazing-payment",
   "metadata": {},
   "outputs": [
    {
     "name": "stdout",
     "output_type": "stream",
     "text": [
      "10 indicator(s) loaded/updated.\n"
     ]
    }
   ],
   "source": [
    "# You can use the `method`, `category`, and `indicator` keywords to narrow down the ones you like\n",
    "# assumess we want all TRACI indicators\n",
    "ei.load_indicators(add=True, method='TRACI', category='', indicator='')"
   ]
  },
  {
   "cell_type": "code",
   "execution_count": 20,
   "id": "obvious-collar",
   "metadata": {},
   "outputs": [
    {
     "data": {
      "text/plain": [
       "[('TRACI (obsolete)', 'human health', 'respiratory effects, average'),\n",
       " ('TRACI', 'environmental impact', 'acidification'),\n",
       " ('TRACI (obsolete)', 'environmental impact', 'acidification'),\n",
       " ('TRACI (obsolete)', 'environmental impact', 'ecotoxicity'),\n",
       " ('TRACI (obsolete)', 'environmental impact', 'photochemical oxidation'),\n",
       " ('TRACI (obsolete)', 'environmental impact', 'eutrophication'),\n",
       " ('TRACI (obsolete)', 'environmental impact', 'ozone depletion'),\n",
       " ('TRACI (obsolete)', 'human health', 'non-carcinogenics'),\n",
       " ('TRACI (obsolete)', 'human health', 'carcinogenics'),\n",
       " ('TRACI (obsolete)', 'environmental impact', 'global warming')]"
      ]
     },
     "execution_count": 20,
     "metadata": {},
     "output_type": "execute_result"
    }
   ],
   "source": [
    "# It is not clear why most of the TRACI indicators are marked as \"obsolete\"\n",
    "ei.indicators"
   ]
  },
  {
   "cell_type": "code",
   "execution_count": 45,
   "id": "desperate-supplement",
   "metadata": {},
   "outputs": [],
   "source": [
    "# And the only not \"obsolete\" indicator \"('TRACI', 'environmental impact', 'acidification')\"\n",
    "# is acutally a bug, so we need to remove it first\n",
    "ei.remove('indicators', (('TRACI', 'environmental impact', 'acidification'),))"
   ]
  },
  {
   "cell_type": "markdown",
   "id": "caroline-spotlight",
   "metadata": {},
   "source": [
    "### Load activities"
   ]
  },
  {
   "cell_type": "code",
   "execution_count": 34,
   "id": "departmental-resident",
   "metadata": {},
   "outputs": [
    {
     "data": {
      "text/plain": [
       "{'building construction, hostel': 'building construction, hostel' (unit, PE, None),\n",
       " 'building operation, hostel': 'building operation, hostel' (guest night, PE, None),\n",
       " 'building construction, budget hotel': 'building construction, budget hotel' (unit, BR, None),\n",
       " 'building machine production': 'building machine production' (unit, RoW, None),\n",
       " 'market for building machine': 'market for building machine' (unit, GLO, None),\n",
       " 'market for building, hall': 'market for building, hall' (square meter, GLO, None),\n",
       " 'building construction, hall': 'building construction, hall' (square meter, CH, None)}"
      ]
     },
     "execution_count": 34,
     "metadata": {},
     "output_type": "execute_result"
    }
   ],
   "source": [
    "# Next is to look for the activities of interest,\n",
    "# assume we want to look at some building-related impacts\n",
    "act_dct = ei.load_activities(string='building', add=False, limit=10)\n",
    "act_dct"
   ]
  },
  {
   "cell_type": "code",
   "execution_count": null,
   "id": "composed-orchestra",
   "metadata": {},
   "outputs": [],
   "source": [
    "# If we want to look at the detailed descriptions of the activity\n",
    "ei.show_activity(act_dct['building construction, hostel'])"
   ]
  },
  {
   "cell_type": "code",
   "execution_count": 37,
   "id": "vulnerable-perspective",
   "metadata": {},
   "outputs": [
    {
     "name": "stdout",
     "output_type": "stream",
     "text": [
      "13 activity(ies) loaded/updated.\n"
     ]
    }
   ],
   "source": [
    "# Let's just assume that we want to load all of returned building-related activities\n",
    "ei.load_activities('building', True)"
   ]
  },
  {
   "cell_type": "code",
   "execution_count": 42,
   "id": "horizontal-instrumentation",
   "metadata": {},
   "outputs": [
    {
     "name": "stdout",
     "output_type": "stream",
     "text": [
      "                                       building construction, hostel\n",
      "comment            This dataset represents a tourist accommodatio...\n",
      "classifications    [(ISIC rev.4 ecoinvent, 4100:Construction of b...\n",
      "activity type                         ordinary transforming activity\n",
      "activity                        51259a51-6946-4d55-acc4-44fcdf909a99\n",
      "database                                         ecoinvent_cutoff371\n",
      "filename           51259a51-6946-4d55-acc4-44fcdf909a99_0baef2ba-...\n",
      "location                                                          PE\n",
      "name                                   building construction, hostel\n",
      "parameters         [{'description': 'occupancy rate/year', 'id': ...\n",
      "authors            {'data entry': {'name': 'Viachaslau Filimonau'...\n",
      "type                                                         process\n",
      "reference product                                   building, hostel\n",
      "flow                            0baef2ba-2a7f-4e42-8ed9-3d5f7d5be107\n",
      "unit                                                            unit\n",
      "production amount                                                  1\n",
      "code                                88aeed4245005077260d0f31a95e556d\n",
      "\n"
     ]
    }
   ],
   "source": [
    "info = ei.show_activity('building construction, hostel')\n",
    "info"
   ]
  },
  {
   "cell_type": "code",
   "execution_count": null,
   "id": "perfect-pakistan",
   "metadata": {},
   "outputs": [],
   "source": [
    "# To look at the full description\n",
    "info['building construction, hostel']['comment']"
   ]
  },
  {
   "cell_type": "markdown",
   "id": "greek-chapter",
   "metadata": {},
   "source": [
    "### Get charachterization factors"
   ]
  },
  {
   "cell_type": "code",
   "execution_count": 51,
   "id": "competitive-consumer",
   "metadata": {
    "scrolled": true
   },
   "outputs": [
    {
     "data": {
      "text/html": [
       "<div>\n",
       "<style scoped>\n",
       "    .dataframe tbody tr th:only-of-type {\n",
       "        vertical-align: middle;\n",
       "    }\n",
       "\n",
       "    .dataframe tbody tr th {\n",
       "        vertical-align: top;\n",
       "    }\n",
       "\n",
       "    .dataframe thead tr th {\n",
       "        text-align: left;\n",
       "    }\n",
       "</style>\n",
       "<table border=\"1\" class=\"dataframe\">\n",
       "  <thead>\n",
       "    <tr>\n",
       "      <th>method</th>\n",
       "      <th>-</th>\n",
       "      <th colspan=\"9\" halign=\"left\">TRACI (obsolete)</th>\n",
       "    </tr>\n",
       "    <tr>\n",
       "      <th>category</th>\n",
       "      <th>-</th>\n",
       "      <th colspan=\"6\" halign=\"left\">environmental impact</th>\n",
       "      <th colspan=\"3\" halign=\"left\">human health</th>\n",
       "    </tr>\n",
       "    <tr>\n",
       "      <th>indicator</th>\n",
       "      <th>functional unit</th>\n",
       "      <th>acidification</th>\n",
       "      <th>ecotoxicity</th>\n",
       "      <th>eutrophication</th>\n",
       "      <th>global warming</th>\n",
       "      <th>ozone depletion</th>\n",
       "      <th>photochemical oxidation</th>\n",
       "      <th>carcinogenics</th>\n",
       "      <th>non-carcinogenics</th>\n",
       "      <th>respiratory effects, average</th>\n",
       "    </tr>\n",
       "  </thead>\n",
       "  <tbody>\n",
       "    <tr>\n",
       "      <th>building construction, hostel</th>\n",
       "      <td>unit</td>\n",
       "      <td>1.309024e+05</td>\n",
       "      <td>4.353414e+05</td>\n",
       "      <td>179.601604</td>\n",
       "      <td>5.003757e+05</td>\n",
       "      <td>2.848058e-02</td>\n",
       "      <td>2060.810458</td>\n",
       "      <td>2922.489475</td>\n",
       "      <td>1.485775e+07</td>\n",
       "      <td>885.184473</td>\n",
       "    </tr>\n",
       "    <tr>\n",
       "      <th>building operation, hostel</th>\n",
       "      <td>guest night</td>\n",
       "      <td>1.518396e+00</td>\n",
       "      <td>2.707957e+01</td>\n",
       "      <td>0.005998</td>\n",
       "      <td>6.608624e+00</td>\n",
       "      <td>2.119409e-07</td>\n",
       "      <td>0.015794</td>\n",
       "      <td>0.045757</td>\n",
       "      <td>6.812442e+02</td>\n",
       "      <td>0.010175</td>\n",
       "    </tr>\n",
       "    <tr>\n",
       "      <th>building construction, budget hotel</th>\n",
       "      <td>unit</td>\n",
       "      <td>3.520309e+05</td>\n",
       "      <td>2.395957e+06</td>\n",
       "      <td>535.726641</td>\n",
       "      <td>1.316243e+06</td>\n",
       "      <td>1.169438e-01</td>\n",
       "      <td>5510.085068</td>\n",
       "      <td>2143.644084</td>\n",
       "      <td>2.452787e+07</td>\n",
       "      <td>1932.612652</td>\n",
       "    </tr>\n",
       "    <tr>\n",
       "      <th>building machine production</th>\n",
       "      <td>unit</td>\n",
       "      <td>4.657882e+03</td>\n",
       "      <td>1.652005e+04</td>\n",
       "      <td>7.611431</td>\n",
       "      <td>2.602133e+04</td>\n",
       "      <td>1.748644e-03</td>\n",
       "      <td>55.337504</td>\n",
       "      <td>51.283431</td>\n",
       "      <td>2.307281e+05</td>\n",
       "      <td>32.805903</td>\n",
       "    </tr>\n",
       "    <tr>\n",
       "      <th>market for building machine</th>\n",
       "      <td>unit</td>\n",
       "      <td>5.169214e+03</td>\n",
       "      <td>1.739974e+04</td>\n",
       "      <td>7.957072</td>\n",
       "      <td>2.737296e+04</td>\n",
       "      <td>1.563436e-03</td>\n",
       "      <td>61.441704</td>\n",
       "      <td>54.660042</td>\n",
       "      <td>2.365869e+05</td>\n",
       "      <td>39.198961</td>\n",
       "    </tr>\n",
       "    <tr>\n",
       "      <th>market for building, hall</th>\n",
       "      <td>square meter</td>\n",
       "      <td>1.565567e+02</td>\n",
       "      <td>1.773431e+02</td>\n",
       "      <td>0.173942</td>\n",
       "      <td>3.576852e+02</td>\n",
       "      <td>2.247133e-05</td>\n",
       "      <td>1.272817</td>\n",
       "      <td>0.781879</td>\n",
       "      <td>4.310886e+03</td>\n",
       "      <td>0.481767</td>\n",
       "    </tr>\n",
       "    <tr>\n",
       "      <th>building construction, hall</th>\n",
       "      <td>square meter</td>\n",
       "      <td>1.566408e+02</td>\n",
       "      <td>1.774784e+02</td>\n",
       "      <td>0.174016</td>\n",
       "      <td>3.578289e+02</td>\n",
       "      <td>2.249817e-05</td>\n",
       "      <td>1.274225</td>\n",
       "      <td>0.782726</td>\n",
       "      <td>4.319237e+03</td>\n",
       "      <td>0.482568</td>\n",
       "    </tr>\n",
       "    <tr>\n",
       "      <th>market for building, hostel</th>\n",
       "      <td>unit</td>\n",
       "      <td>1.256825e+05</td>\n",
       "      <td>3.980362e+05</td>\n",
       "      <td>165.676574</td>\n",
       "      <td>4.772094e+05</td>\n",
       "      <td>2.705410e-02</td>\n",
       "      <td>1897.139141</td>\n",
       "      <td>2635.945092</td>\n",
       "      <td>1.348838e+07</td>\n",
       "      <td>907.921365</td>\n",
       "    </tr>\n",
       "    <tr>\n",
       "      <th>building operation, budget hotel</th>\n",
       "      <td>guest night</td>\n",
       "      <td>1.224747e+00</td>\n",
       "      <td>3.923852e+01</td>\n",
       "      <td>0.022050</td>\n",
       "      <td>6.364086e+00</td>\n",
       "      <td>2.311902e-07</td>\n",
       "      <td>0.015436</td>\n",
       "      <td>0.060742</td>\n",
       "      <td>9.650616e+02</td>\n",
       "      <td>0.009643</td>\n",
       "    </tr>\n",
       "    <tr>\n",
       "      <th>building construction, multi-storey</th>\n",
       "      <td>cubic meter</td>\n",
       "      <td>1.200950e+02</td>\n",
       "      <td>1.392389e+03</td>\n",
       "      <td>0.094523</td>\n",
       "      <td>2.898667e+02</td>\n",
       "      <td>1.577312e-05</td>\n",
       "      <td>1.250504</td>\n",
       "      <td>4.906106</td>\n",
       "      <td>6.882645e+03</td>\n",
       "      <td>0.632283</td>\n",
       "    </tr>\n",
       "    <tr>\n",
       "      <th>building construction, luxury hotel</th>\n",
       "      <td>unit</td>\n",
       "      <td>4.674368e+06</td>\n",
       "      <td>1.133380e+07</td>\n",
       "      <td>5108.171830</td>\n",
       "      <td>2.241009e+07</td>\n",
       "      <td>1.034829e+00</td>\n",
       "      <td>66103.145549</td>\n",
       "      <td>67928.254792</td>\n",
       "      <td>2.144608e+08</td>\n",
       "      <td>21776.649309</td>\n",
       "    </tr>\n",
       "    <tr>\n",
       "      <th>building construction, upmarket hotel</th>\n",
       "      <td>unit</td>\n",
       "      <td>1.351738e+06</td>\n",
       "      <td>3.656771e+06</td>\n",
       "      <td>1642.078196</td>\n",
       "      <td>7.344533e+06</td>\n",
       "      <td>3.593584e-01</td>\n",
       "      <td>20479.152135</td>\n",
       "      <td>22057.603902</td>\n",
       "      <td>7.791976e+07</td>\n",
       "      <td>6380.631716</td>\n",
       "    </tr>\n",
       "    <tr>\n",
       "      <th>propane, burned in building machine</th>\n",
       "      <td>megajoule</td>\n",
       "      <td>1.193974e-02</td>\n",
       "      <td>8.441757e-03</td>\n",
       "      <td>0.000028</td>\n",
       "      <td>8.686638e-02</td>\n",
       "      <td>1.380343e-08</td>\n",
       "      <td>0.000176</td>\n",
       "      <td>0.000029</td>\n",
       "      <td>1.535789e-01</td>\n",
       "      <td>0.000048</td>\n",
       "    </tr>\n",
       "  </tbody>\n",
       "</table>\n",
       "</div>"
      ],
      "text/plain": [
       "method                                              -     TRACI (obsolete)  \\\n",
       "category                                            - environmental impact   \n",
       "indicator                             functional unit        acidification   \n",
       "building construction, hostel                    unit         1.309024e+05   \n",
       "building operation, hostel                guest night         1.518396e+00   \n",
       "building construction, budget hotel              unit         3.520309e+05   \n",
       "building machine production                      unit         4.657882e+03   \n",
       "market for building machine                      unit         5.169214e+03   \n",
       "market for building, hall                square meter         1.565567e+02   \n",
       "building construction, hall              square meter         1.566408e+02   \n",
       "market for building, hostel                      unit         1.256825e+05   \n",
       "building operation, budget hotel          guest night         1.224747e+00   \n",
       "building construction, multi-storey       cubic meter         1.200950e+02   \n",
       "building construction, luxury hotel              unit         4.674368e+06   \n",
       "building construction, upmarket hotel            unit         1.351738e+06   \n",
       "propane, burned in building machine         megajoule         1.193974e-02   \n",
       "\n",
       "method                                                              \\\n",
       "category                                                             \n",
       "indicator                               ecotoxicity eutrophication   \n",
       "building construction, hostel          4.353414e+05     179.601604   \n",
       "building operation, hostel             2.707957e+01       0.005998   \n",
       "building construction, budget hotel    2.395957e+06     535.726641   \n",
       "building machine production            1.652005e+04       7.611431   \n",
       "market for building machine            1.739974e+04       7.957072   \n",
       "market for building, hall              1.773431e+02       0.173942   \n",
       "building construction, hall            1.774784e+02       0.174016   \n",
       "market for building, hostel            3.980362e+05     165.676574   \n",
       "building operation, budget hotel       3.923852e+01       0.022050   \n",
       "building construction, multi-storey    1.392389e+03       0.094523   \n",
       "building construction, luxury hotel    1.133380e+07    5108.171830   \n",
       "building construction, upmarket hotel  3.656771e+06    1642.078196   \n",
       "propane, burned in building machine    8.441757e-03       0.000028   \n",
       "\n",
       "method                                                                \\\n",
       "category                                                               \n",
       "indicator                             global warming ozone depletion   \n",
       "building construction, hostel           5.003757e+05    2.848058e-02   \n",
       "building operation, hostel              6.608624e+00    2.119409e-07   \n",
       "building construction, budget hotel     1.316243e+06    1.169438e-01   \n",
       "building machine production             2.602133e+04    1.748644e-03   \n",
       "market for building machine             2.737296e+04    1.563436e-03   \n",
       "market for building, hall               3.576852e+02    2.247133e-05   \n",
       "building construction, hall             3.578289e+02    2.249817e-05   \n",
       "market for building, hostel             4.772094e+05    2.705410e-02   \n",
       "building operation, budget hotel        6.364086e+00    2.311902e-07   \n",
       "building construction, multi-storey     2.898667e+02    1.577312e-05   \n",
       "building construction, luxury hotel     2.241009e+07    1.034829e+00   \n",
       "building construction, upmarket hotel   7.344533e+06    3.593584e-01   \n",
       "propane, burned in building machine     8.686638e-02    1.380343e-08   \n",
       "\n",
       "method                                                                       \\\n",
       "category                                                       human health   \n",
       "indicator                             photochemical oxidation carcinogenics   \n",
       "building construction, hostel                     2060.810458   2922.489475   \n",
       "building operation, hostel                           0.015794      0.045757   \n",
       "building construction, budget hotel               5510.085068   2143.644084   \n",
       "building machine production                         55.337504     51.283431   \n",
       "market for building machine                         61.441704     54.660042   \n",
       "market for building, hall                            1.272817      0.781879   \n",
       "building construction, hall                          1.274225      0.782726   \n",
       "market for building, hostel                       1897.139141   2635.945092   \n",
       "building operation, budget hotel                     0.015436      0.060742   \n",
       "building construction, multi-storey                  1.250504      4.906106   \n",
       "building construction, luxury hotel              66103.145549  67928.254792   \n",
       "building construction, upmarket hotel            20479.152135  22057.603902   \n",
       "propane, burned in building machine                  0.000176      0.000029   \n",
       "\n",
       "method                                                   \\\n",
       "category                                                  \n",
       "indicator                             non-carcinogenics   \n",
       "building construction, hostel              1.485775e+07   \n",
       "building operation, hostel                 6.812442e+02   \n",
       "building construction, budget hotel        2.452787e+07   \n",
       "building machine production                2.307281e+05   \n",
       "market for building machine                2.365869e+05   \n",
       "market for building, hall                  4.310886e+03   \n",
       "building construction, hall                4.319237e+03   \n",
       "market for building, hostel                1.348838e+07   \n",
       "building operation, budget hotel           9.650616e+02   \n",
       "building construction, multi-storey        6.882645e+03   \n",
       "building construction, luxury hotel        2.144608e+08   \n",
       "building construction, upmarket hotel      7.791976e+07   \n",
       "propane, burned in building machine        1.535789e-01   \n",
       "\n",
       "method                                                              \n",
       "category                                                            \n",
       "indicator                             respiratory effects, average  \n",
       "building construction, hostel                           885.184473  \n",
       "building operation, hostel                                0.010175  \n",
       "building construction, budget hotel                    1932.612652  \n",
       "building machine production                              32.805903  \n",
       "market for building machine                              39.198961  \n",
       "market for building, hall                                 0.481767  \n",
       "building construction, hall                               0.482568  \n",
       "market for building, hostel                             907.921365  \n",
       "building operation, budget hotel                          0.009643  \n",
       "building construction, multi-storey                       0.632283  \n",
       "building construction, luxury hotel                   21776.649309  \n",
       "building construction, upmarket hotel                  6380.631716  \n",
       "propane, burned in building machine                       0.000048  "
      ]
     },
     "execution_count": 51,
     "metadata": {},
     "output_type": "execute_result"
    }
   ],
   "source": [
    "# Finally, we can get the CF values\n",
    "# if you provide a path, the results will be saved as a tsv (`sep='\\t'`)/csv or an Excel\n",
    "# (depending on the file type you provided in the path),\n",
    "# a sample output (sample_output.tsv) is provided in the package.\n",
    "df = ei.get_CF(show=False, path='')\n",
    "df"
   ]
  },
  {
   "cell_type": "code",
   "execution_count": 1,
   "id": "green-adolescent",
   "metadata": {},
   "outputs": [],
   "source": [
    "# Before quitting the program, removing the setups.pickle file will prevent you from getting an error\n",
    "# (related to the ``bw2data`` package) the next time you load BW2QSD\n",
    "from bw2qsd import remove_setups_pickle\n",
    "remove_setups_pickle()"
   ]
  }
 ],
 "metadata": {
  "celltoolbar": "Raw Cell Format",
  "kernelspec": {
   "display_name": "Python 3",
   "language": "python",
   "name": "python3"
  },
  "language_info": {
   "codemirror_mode": {
    "name": "ipython",
    "version": 3
   },
   "file_extension": ".py",
   "mimetype": "text/x-python",
   "name": "python",
   "nbconvert_exporter": "python",
   "pygments_lexer": "ipython3",
   "version": "3.7.7"
  }
 },
 "nbformat": 4,
 "nbformat_minor": 5
}
